{
 "metadata": {
  "language_info": {
   "codemirror_mode": {
    "name": "ipython",
    "version": 3
   },
   "file_extension": ".py",
   "mimetype": "text/x-python",
   "name": "python",
   "nbconvert_exporter": "python",
   "pygments_lexer": "ipython3",
   "version": "3.8.3-final"
  },
  "orig_nbformat": 2,
  "kernelspec": {
   "name": "python3",
   "display_name": "Python 3"
  }
 },
 "nbformat": 4,
 "nbformat_minor": 2,
 "cells": [
  {
   "cell_type": "code",
   "execution_count": 1,
   "metadata": {},
   "outputs": [],
   "source": [
    "import numpy as np"
   ]
  },
  {
   "cell_type": "code",
   "execution_count": 29,
   "metadata": {},
   "outputs": [],
   "source": [
    "def game_core(number):\n",
    "    '''Сначала устанавливаем любое random число, а потом раз за разом уменьшаем вдвое список чисел в диапазоне между ним и загаданным числом до тех пор, пока не выйдем на загаданное.\n",
    "       Функция принимает загаданное число и возвращает количество попыток'''\n",
    "    middle_number = 0\n",
    "    count = 1\n",
    "    predict = np.random.randint(1,101) # предполагаемое число\n",
    "\n",
    "    while number != predict:\n",
    "        count+=1\n",
    "\n",
    "        if number > predict: # определяем диапазон поиска\n",
    "            aux_number = predict\n",
    "            while middle_number != (number-1):\n",
    "                number_list = [i for i in range(aux_number, number+1)] # задаем диапазон поиска\n",
    "                middle_number = (min(number_list) + max(number_list))//2 # ищем серединное число диапазона\n",
    "                aux_number = middle_number # принимаем серединное число за новую границу в следующей итерации\n",
    "            predict = middle_number+1\n",
    "        \n",
    "        elif number < predict: # определяем диапазон поиска\n",
    "            aux_number = predict\n",
    "            while middle_number != number:\n",
    "                number_list = [i for i in range(number, aux_number+1)] # задаем диапазон поиска\n",
    "                middle_number = (min(number_list) + max(number_list))//2 # ищем серединное число диапазона\n",
    "                aux_number = middle_number # принимаем серединное число за новую границу в следующей итерации\n",
    "            predict = middle_number\n",
    "    \n",
    "    return(count) # выход из цикла, если угадали"
   ]
  },
  {
   "cell_type": "code",
   "execution_count": 26,
   "metadata": {},
   "outputs": [],
   "source": [
    "# Проверка алгоритма\n",
    "\n",
    "def score_game(game_core):\n",
    "    '''Запускаем игру 1000 раз, чтобы узнать, как быстро игра угадывает число'''\n",
    "    count_ls = []\n",
    "    np.random.seed(1)\n",
    "    random_array = np.random.randint(1,101, size=(1000))\n",
    "    for number in random_array:\n",
    "        count_ls.append(game_core(number))\n",
    "    score = int(np.mean(count_ls))\n",
    "    print(f\"Ваш алгоритм угадывает число в среднем за {score} попыток\")\n",
    "    return(score)"
   ]
  },
  {
   "cell_type": "code",
   "execution_count": 30,
   "metadata": {},
   "outputs": [
    {
     "output_type": "stream",
     "name": "stdout",
     "text": [
      "Ваш алгоритм угадывает число в среднем за 1 попыток\n"
     ]
    },
    {
     "output_type": "execute_result",
     "data": {
      "text/plain": [
       "1"
      ]
     },
     "metadata": {},
     "execution_count": 30
    }
   ],
   "source": [
    "score_game(game_core)"
   ]
  }
 ]
}